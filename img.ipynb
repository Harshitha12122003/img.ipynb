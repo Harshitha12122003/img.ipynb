{
 "cells": [
  {
   "cell_type": "code",
   "execution_count": 1,
   "id": "cf9fca54-0ce5-4b02-9559-0a8f50e1a57f",
   "metadata": {},
   "outputs": [],
   "source": [
    "import numpy as np\n",
    "import pandas as pd\n",
    "import cv2"
   ]
  },
  {
   "cell_type": "markdown",
   "id": "0622f6c6-766d-4c49-bec1-87dd996098fe",
   "metadata": {},
   "source": [
    "\n"
   ]
  },
  {
   "cell_type": "markdown",
   "id": "0d66c59f-cfd8-4a6e-beeb-b620f85b9d1b",
   "metadata": {},
   "source": [
    "### 1. Reading an Image (cv2.imread())\n",
    "#### This function is used to load an image from a file. You can specify the image path as an argument to the function."
   ]
  },
  {
   "cell_type": "code",
   "execution_count": 4,
   "id": "43f269a3-f15f-4ae5-92e4-f22adb7a7885",
   "metadata": {},
   "outputs": [],
   "source": [
    "img=cv2.imread(r\"C:\\Users\\Harshitha\\dora11.jpg\")"
   ]
  },
  {
   "cell_type": "code",
   "execution_count": 5,
   "id": "a1407c41-c860-4baa-a4fb-5ddc7eb2e796",
   "metadata": {},
   "outputs": [
    {
     "data": {
      "text/plain": [
       "(1299, 850, 3)"
      ]
     },
     "execution_count": 5,
     "metadata": {},
     "output_type": "execute_result"
    }
   ],
   "source": [
    "img.shape"
   ]
  },
  {
   "cell_type": "code",
   "execution_count": 6,
   "id": "17cf29de-0768-4d09-aa46-32fac79f518c",
   "metadata": {},
   "outputs": [
    {
     "data": {
      "text/plain": [
       "dtype('uint8')"
      ]
     },
     "execution_count": 6,
     "metadata": {},
     "output_type": "execute_result"
    }
   ],
   "source": [
    "img.dtype"
   ]
  },
  {
   "cell_type": "markdown",
   "id": "002628d5-5e38-4dc6-9653-7694f95b55ed",
   "metadata": {},
   "source": [
    "### 2. Displaying an Image (cv2.imshow())\n",
    "#### Once an image is loaded, you can display it in a window using cv2.imshow(). The window will show the image until you press a key.\n"
   ]
  },
  {
   "cell_type": "code",
   "execution_count": null,
   "id": "04ac7190-8908-4031-bd24-5c2ce3296975",
   "metadata": {},
   "outputs": [],
   "source": [
    "# Display the image\n",
    "cv2.imshow('Image', img)\n",
    "\n",
    "# Wait for a key press and close all windows\n",
    "cv2.waitKey(0)\n",
    "cv2.destroyAllWindows()\n"
   ]
  },
  {
   "cell_type": "markdown",
   "id": "971404aa-4542-4e16-851f-a8783242be6c",
   "metadata": {},
   "source": [
    "### 3. Saving an Image (cv2.imwrite())\n",
    "#### You can save the image after performing any transformations, such as resizing or filtering."
   ]
  },
  {
   "cell_type": "code",
   "execution_count": null,
   "id": "b708093e-c7f9-4432-a683-d0781b8d2a9a",
   "metadata": {},
   "outputs": [],
   "source": [
    "# Save the image to a file\n",
    "cv2.imwrite('saved_image.jpg', img)\n"
   ]
  },
  {
   "cell_type": "markdown",
   "id": "3d26bebe-08e4-48b5-b04b-5392f91285aa",
   "metadata": {},
   "source": [
    "### 4.cv2.waitkey()\n",
    "#### The cv2.waitKey() function in OpenCV is used to pause the execution of a program and wait for a key press. It's essential when displaying images or videos, as it allows the user to view content in an OpenCV window before continuing the program.\n",
    "\n"
   ]
  },
  {
   "cell_type": "code",
   "execution_count": null,
   "id": "39b8d08b-fde2-48fc-8e22-da8604d5f7e0",
   "metadata": {},
   "outputs": [],
   "source": [
    "\n",
    "cv2.waitKey(time)"
   ]
  },
  {
   "cell_type": "markdown",
   "id": "ac0a5ffe-62e4-4dd9-983e-e82245e439ae",
   "metadata": {},
   "source": [
    "### cv2.destroyallwindows\n",
    "### The cv2.destroyAllWindows() function in OpenCV is used to close all OpenCV windows that were opened using cv2.imshow(). This is particularly useful for ensuring that no unnecessary windows remain open after the program finishes or when you need to clean up before continuing."
   ]
  },
  {
   "cell_type": "code",
   "execution_count": null,
   "id": "ce8af8a8-726c-45dc-9478-f6395cb4113d",
   "metadata": {},
   "outputs": [],
   "source": [
    "cv2.destroyAllWindows()"
   ]
  }
 ],
 "metadata": {
  "kernelspec": {
   "display_name": "Python 3 (ipykernel)",
   "language": "python",
   "name": "python3"
  },
  "language_info": {
   "codemirror_mode": {
    "name": "ipython",
    "version": 3
   },
   "file_extension": ".py",
   "mimetype": "text/x-python",
   "name": "python",
   "nbconvert_exporter": "python",
   "pygments_lexer": "ipython3",
   "version": "3.12.4"
  }
 },
 "nbformat": 4,
 "nbformat_minor": 5
}
